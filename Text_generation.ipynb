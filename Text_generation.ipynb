{
  "nbformat": 4,
  "nbformat_minor": 0,
  "metadata": {
    "colab": {
      "name": "Untitled15.ipynb",
      "provenance": [],
      "collapsed_sections": [],
      "toc_visible": true
    },
    "kernelspec": {
      "name": "python3",
      "display_name": "Python 3"
    },
    "accelerator": "GPU"
  },
  "cells": [
    {
      "cell_type": "code",
      "metadata": {
        "id": "ZwzRqZmB-hol",
        "colab_type": "code",
        "colab": {}
      },
      "source": [
        "import tensorflow as tf\n",
        "import pandas as pd\n",
        "import string\n",
        "import requests\n",
        "import re"
      ],
      "execution_count": 1,
      "outputs": []
    },
    {
      "cell_type": "code",
      "metadata": {
        "id": "oO3HI5JC_g-c",
        "colab_type": "code",
        "colab": {}
      },
      "source": [
        "response=requests.get(\"https://sncuvobxpqxmfhmfjnlklr.coursera-apps.org/edit/Week%201/Dinosaur%20Island%20--%20Character-level%20language%20model/shakespeare.txt#\")"
      ],
      "execution_count": 2,
      "outputs": []
    },
    {
      "cell_type": "code",
      "metadata": {
        "id": "L1JYpNZmqcH0",
        "colab_type": "code",
        "colab": {}
      },
      "source": [
        "data=open(\"shakespeare.txt\",\"r\")"
      ],
      "execution_count": 2,
      "outputs": []
    },
    {
      "cell_type": "code",
      "metadata": {
        "id": "68O3tgLX_0vZ",
        "colab_type": "code",
        "colab": {}
      },
      "source": [
        "\n",
        "data=data.read()"
      ],
      "execution_count": 3,
      "outputs": []
    },
    {
      "cell_type": "code",
      "metadata": {
        "id": "ECfv2Ya6_3WA",
        "colab_type": "code",
        "colab": {}
      },
      "source": [
        "data=data.split(\"\\n\")"
      ],
      "execution_count": 4,
      "outputs": []
    },
    {
      "cell_type": "code",
      "metadata": {
        "id": "W88A5yr_qoct",
        "colab_type": "code",
        "colab": {
          "base_uri": "https://localhost:8080/",
          "height": 35
        },
        "outputId": "c97b6e06-aadf-47a2-9f2f-44132b47fe1a"
      },
      "source": [
        "len(data)"
      ],
      "execution_count": 5,
      "outputs": [
        {
          "output_type": "execute_result",
          "data": {
            "text/plain": [
              "2469"
            ]
          },
          "metadata": {
            "tags": []
          },
          "execution_count": 5
        }
      ]
    },
    {
      "cell_type": "code",
      "metadata": {
        "id": "IN__rFhbAS1Y",
        "colab_type": "code",
        "colab": {}
      },
      "source": [
        "data=\" \".join(data)"
      ],
      "execution_count": 6,
      "outputs": []
    },
    {
      "cell_type": "code",
      "metadata": {
        "id": "l0aZX87iAavR",
        "colab_type": "code",
        "colab": {}
      },
      "source": [
        "def clean(text):\n",
        "    text = text.lower()\n",
        "    text = re.sub('\\[.*?\\,\\']', ' ', text)\n",
        "    text = re.sub('https?://\\S+|www\\.\\S+', ' ', text)\n",
        "    text = re.sub('<.*?>+', ' ', text)\n",
        "    text = re.sub('[%s]' % re.escape(string.punctuation), ' ', text)\n",
        "    text = re.sub('\\n', ' ', text)\n",
        "    text = re.sub('\\w*\\d\\w*', '', text)\n",
        "    text=text.split()\n",
        "    \n",
        "    \n",
        "    return text"
      ],
      "execution_count": 7,
      "outputs": []
    },
    {
      "cell_type": "code",
      "metadata": {
        "id": "bPioeuLHBEre",
        "colab_type": "code",
        "colab": {
          "base_uri": "https://localhost:8080/",
          "height": 35
        },
        "outputId": "44464809-fff7-4ce5-88f8-b6661fa687ed"
      },
      "source": [
        "data=clean(data)\n",
        "len((data))"
      ],
      "execution_count": 8,
      "outputs": [
        {
          "output_type": "execute_result",
          "data": {
            "text/plain": [
              "17976"
            ]
          },
          "metadata": {
            "tags": []
          },
          "execution_count": 8
        }
      ]
    },
    {
      "cell_type": "code",
      "metadata": {
        "id": "WkAY7r0Otvp5",
        "colab_type": "code",
        "colab": {}
      },
      "source": [
        "data=data[5:]"
      ],
      "execution_count": 13,
      "outputs": []
    },
    {
      "cell_type": "code",
      "metadata": {
        "id": "Q83KwujBtjnG",
        "colab_type": "code",
        "colab": {
          "base_uri": "https://localhost:8080/",
          "height": 35
        },
        "outputId": "fccc07e1-4654-435f-97a4-e2b3ccf9688c"
      },
      "source": [
        "len(set(data))"
      ],
      "execution_count": 71,
      "outputs": [
        {
          "output_type": "execute_result",
          "data": {
            "text/plain": [
              "3086"
            ]
          },
          "metadata": {
            "tags": []
          },
          "execution_count": 71
        }
      ]
    },
    {
      "cell_type": "code",
      "metadata": {
        "id": "Xn60k04KDs5-",
        "colab_type": "code",
        "colab": {}
      },
      "source": [
        "window=31\n",
        "lines=[]\n",
        "for i in range(len(data)-window-1):\n",
        "  line=data[i:i+window]\n",
        "  line=\" \".join(line)\n",
        "  lines.append(line)\n",
        "  "
      ],
      "execution_count": 17,
      "outputs": []
    },
    {
      "cell_type": "code",
      "metadata": {
        "id": "5Ba-F3WcGOe-",
        "colab_type": "code",
        "colab": {
          "base_uri": "https://localhost:8080/",
          "height": 53
        },
        "outputId": "8885fb56-b539-45e3-d9c2-e435af38f55b"
      },
      "source": [
        "lines[0]"
      ],
      "execution_count": 43,
      "outputs": [
        {
          "output_type": "execute_result",
          "data": {
            "application/vnd.google.colaboratory.intrinsic+json": {
              "type": "string"
            },
            "text/plain": [
              "'from fairest creatures we desire increase that thereby beauty s rose might never die but as the riper should by time decease his tender heir might bear his memory but thou'"
            ]
          },
          "metadata": {
            "tags": []
          },
          "execution_count": 43
        }
      ]
    },
    {
      "cell_type": "code",
      "metadata": {
        "id": "UjcZRohJGQPP",
        "colab_type": "code",
        "colab": {}
      },
      "source": [
        "import numpy as np\n",
        "from tensorflow.keras.preprocessing.text import Tokenizer\n",
        "from tensorflow.keras.utils import to_categorical\n",
        "from tensorflow.keras.models import Sequential\n",
        "from tensorflow.keras.layers import LSTM,Dense,Embedding\n",
        "from tensorflow.keras.preprocessing.sequence import pad_sequences"
      ],
      "execution_count": 24,
      "outputs": []
    },
    {
      "cell_type": "code",
      "metadata": {
        "id": "B5aeXclCJ0ov",
        "colab_type": "code",
        "colab": {}
      },
      "source": [
        "tokenizer=Tokenizer()\n",
        "tokenizer.fit_on_texts(lines)\n",
        "sequences=tokenizer.texts_to_sequences(lines)"
      ],
      "execution_count": 25,
      "outputs": []
    },
    {
      "cell_type": "code",
      "metadata": {
        "id": "1WTW0vwHKmDF",
        "colab_type": "code",
        "colab": {
          "base_uri": "https://localhost:8080/",
          "height": 35
        },
        "outputId": "d80b0782-1dcf-4325-bd87-61f65beb4b68"
      },
      "source": [
        "len(sequences)"
      ],
      "execution_count": 26,
      "outputs": [
        {
          "output_type": "execute_result",
          "data": {
            "text/plain": [
              "17939"
            ]
          },
          "metadata": {
            "tags": []
          },
          "execution_count": 26
        }
      ]
    },
    {
      "cell_type": "code",
      "metadata": {
        "id": "GubClRC1Ky8H",
        "colab_type": "code",
        "colab": {}
      },
      "source": [
        "sequences=np.array(sequences)"
      ],
      "execution_count": 27,
      "outputs": []
    },
    {
      "cell_type": "code",
      "metadata": {
        "id": "Oe5UEGqHK9Sc",
        "colab_type": "code",
        "colab": {
          "base_uri": "https://localhost:8080/",
          "height": 35
        },
        "outputId": "82098d2e-1d0e-40de-bc70-a28ac7384296"
      },
      "source": [
        "sequences.shape"
      ],
      "execution_count": 28,
      "outputs": [
        {
          "output_type": "execute_result",
          "data": {
            "text/plain": [
              "(17939, 31)"
            ]
          },
          "metadata": {
            "tags": []
          },
          "execution_count": 28
        }
      ]
    },
    {
      "cell_type": "code",
      "metadata": {
        "id": "zohi0m06sJo8",
        "colab_type": "code",
        "colab": {
          "base_uri": "https://localhost:8080/",
          "height": 35
        },
        "outputId": "4cf3caed-4d40-461a-af68-7af1570205f5"
      },
      "source": [
        "sequences.shape"
      ],
      "execution_count": 46,
      "outputs": [
        {
          "output_type": "execute_result",
          "data": {
            "text/plain": [
              "(17971,)"
            ]
          },
          "metadata": {
            "tags": []
          },
          "execution_count": 46
        }
      ]
    },
    {
      "cell_type": "code",
      "metadata": {
        "id": "BOvwDfY6K_QB",
        "colab_type": "code",
        "colab": {}
      },
      "source": [
        "x,y=sequences[:,:-1],sequences[:,-1]"
      ],
      "execution_count": 29,
      "outputs": []
    },
    {
      "cell_type": "code",
      "metadata": {
        "id": "A6Z1BT09LasS",
        "colab_type": "code",
        "colab": {
          "base_uri": "https://localhost:8080/",
          "height": 35
        },
        "outputId": "f5d77b70-f7b5-4724-9687-6640c223a961"
      },
      "source": [
        "vocab_size=len(tokenizer.index_word)+1\n",
        "vocab_size"
      ],
      "execution_count": 33,
      "outputs": [
        {
          "output_type": "execute_result",
          "data": {
            "text/plain": [
              "3084"
            ]
          },
          "metadata": {
            "tags": []
          },
          "execution_count": 33
        }
      ]
    },
    {
      "cell_type": "code",
      "metadata": {
        "id": "YNursuYWMJCY",
        "colab_type": "code",
        "colab": {}
      },
      "source": [
        "y=to_categorical(y,num_classes=vocab_size)"
      ],
      "execution_count": 31,
      "outputs": []
    },
    {
      "cell_type": "code",
      "metadata": {
        "id": "VwGYV-ElMWeX",
        "colab_type": "code",
        "colab": {
          "base_uri": "https://localhost:8080/",
          "height": 35
        },
        "outputId": "49b301dd-a6e0-474d-92ec-9bd702fc240f"
      },
      "source": [
        "y.shape"
      ],
      "execution_count": 32,
      "outputs": [
        {
          "output_type": "execute_result",
          "data": {
            "text/plain": [
              "(17939, 3084)"
            ]
          },
          "metadata": {
            "tags": []
          },
          "execution_count": 32
        }
      ]
    },
    {
      "cell_type": "code",
      "metadata": {
        "id": "Dt14XTCoMj-E",
        "colab_type": "code",
        "colab": {}
      },
      "source": [
        "seq_length=x.shape[1]"
      ],
      "execution_count": 34,
      "outputs": []
    },
    {
      "cell_type": "code",
      "metadata": {
        "id": "PDJ47UdmMuHL",
        "colab_type": "code",
        "colab": {
          "base_uri": "https://localhost:8080/",
          "height": 35
        },
        "outputId": "fbd6c449-8f8b-49a4-d824-eb443f8ac292"
      },
      "source": [
        "seq_length"
      ],
      "execution_count": 35,
      "outputs": [
        {
          "output_type": "execute_result",
          "data": {
            "text/plain": [
              "30"
            ]
          },
          "metadata": {
            "tags": []
          },
          "execution_count": 35
        }
      ]
    },
    {
      "cell_type": "markdown",
      "metadata": {
        "id": "luMjkzr0NhZ6",
        "colab_type": "text"
      },
      "source": [
        "##LSTM"
      ]
    },
    {
      "cell_type": "code",
      "metadata": {
        "id": "RfjPY_UCNgEu",
        "colab_type": "code",
        "colab": {}
      },
      "source": [
        "model=Sequential()\n",
        "model.add(Embedding(input_dim=vocab_size,output_dim=300,input_length=seq_length))\n",
        "#model.add(Embedding(vocab_size,40,input_length=seq_length))\n",
        "model.add(LSTM(100,return_sequences=True))\n",
        "model.add(LSTM(100))\n",
        "model.add(Dense(100,activation=\"relu\"))\n",
        "model.add(Dense(vocab_size,activation='softmax'))"
      ],
      "execution_count": 38,
      "outputs": []
    },
    {
      "cell_type": "code",
      "metadata": {
        "id": "njy5wiWOOGL3",
        "colab_type": "code",
        "colab": {
          "base_uri": "https://localhost:8080/",
          "height": 337
        },
        "outputId": "c070ea8d-b9da-4709-8ff6-466ebc977deb"
      },
      "source": [
        "model.summary()"
      ],
      "execution_count": 39,
      "outputs": [
        {
          "output_type": "stream",
          "text": [
            "Model: \"sequential_1\"\n",
            "_________________________________________________________________\n",
            "Layer (type)                 Output Shape              Param #   \n",
            "=================================================================\n",
            "embedding_1 (Embedding)      (None, 30, 300)           925200    \n",
            "_________________________________________________________________\n",
            "lstm_2 (LSTM)                (None, 30, 100)           160400    \n",
            "_________________________________________________________________\n",
            "lstm_3 (LSTM)                (None, 100)               80400     \n",
            "_________________________________________________________________\n",
            "dense_2 (Dense)              (None, 100)               10100     \n",
            "_________________________________________________________________\n",
            "dense_3 (Dense)              (None, 3084)              311484    \n",
            "=================================================================\n",
            "Total params: 1,487,584\n",
            "Trainable params: 1,487,584\n",
            "Non-trainable params: 0\n",
            "_________________________________________________________________\n"
          ],
          "name": "stdout"
        }
      ]
    },
    {
      "cell_type": "code",
      "metadata": {
        "id": "5Q1jCpbaPJKB",
        "colab_type": "code",
        "colab": {
          "base_uri": "https://localhost:8080/",
          "height": 1000
        },
        "outputId": "02c91c59-ee5e-4872-8a91-eecd947237b3"
      },
      "source": [
        "model.compile(loss='categorical_crossentropy', optimizer='adam', metrics=['accuracy'])\n",
        "model.fit(x, y, batch_size=100, epochs=100)"
      ],
      "execution_count": 41,
      "outputs": [
        {
          "output_type": "stream",
          "text": [
            "Epoch 1/100\n",
            "180/180 [==============================] - 7s 39ms/step - loss: 0.9349 - accuracy: 0.7590\n",
            "Epoch 2/100\n",
            "180/180 [==============================] - 7s 39ms/step - loss: 0.8160 - accuracy: 0.8018\n",
            "Epoch 3/100\n",
            "180/180 [==============================] - 7s 39ms/step - loss: 0.8127 - accuracy: 0.8009\n",
            "Epoch 4/100\n",
            "180/180 [==============================] - 7s 38ms/step - loss: 0.8051 - accuracy: 0.8027\n",
            "Epoch 5/100\n",
            "180/180 [==============================] - 7s 38ms/step - loss: 0.7846 - accuracy: 0.8073\n",
            "Epoch 6/100\n",
            "180/180 [==============================] - 7s 39ms/step - loss: 0.7697 - accuracy: 0.8107\n",
            "Epoch 7/100\n",
            "180/180 [==============================] - 7s 37ms/step - loss: 0.7568 - accuracy: 0.8145\n",
            "Epoch 8/100\n",
            "180/180 [==============================] - 7s 37ms/step - loss: 0.7404 - accuracy: 0.8153\n",
            "Epoch 9/100\n",
            "180/180 [==============================] - 7s 38ms/step - loss: 0.7166 - accuracy: 0.8194\n",
            "Epoch 10/100\n",
            "180/180 [==============================] - 7s 38ms/step - loss: 0.6863 - accuracy: 0.8305\n",
            "Epoch 11/100\n",
            "180/180 [==============================] - 7s 38ms/step - loss: 0.6756 - accuracy: 0.8337\n",
            "Epoch 12/100\n",
            "180/180 [==============================] - 7s 37ms/step - loss: 0.6442 - accuracy: 0.8430\n",
            "Epoch 13/100\n",
            "180/180 [==============================] - 7s 37ms/step - loss: 0.6307 - accuracy: 0.8441\n",
            "Epoch 14/100\n",
            "180/180 [==============================] - 7s 37ms/step - loss: 0.6283 - accuracy: 0.8450\n",
            "Epoch 15/100\n",
            "180/180 [==============================] - 7s 37ms/step - loss: 0.6259 - accuracy: 0.8460\n",
            "Epoch 16/100\n",
            "180/180 [==============================] - 7s 37ms/step - loss: 0.6184 - accuracy: 0.8450\n",
            "Epoch 17/100\n",
            "180/180 [==============================] - 7s 37ms/step - loss: 0.5861 - accuracy: 0.8548\n",
            "Epoch 18/100\n",
            "180/180 [==============================] - 7s 38ms/step - loss: 0.5563 - accuracy: 0.8655\n",
            "Epoch 19/100\n",
            "180/180 [==============================] - 7s 38ms/step - loss: 0.5346 - accuracy: 0.8720\n",
            "Epoch 20/100\n",
            "180/180 [==============================] - 7s 38ms/step - loss: 0.5234 - accuracy: 0.8723\n",
            "Epoch 21/100\n",
            "180/180 [==============================] - 7s 37ms/step - loss: 0.5313 - accuracy: 0.8717\n",
            "Epoch 22/100\n",
            "180/180 [==============================] - 7s 37ms/step - loss: 0.5626 - accuracy: 0.8587\n",
            "Epoch 23/100\n",
            "180/180 [==============================] - 7s 37ms/step - loss: 0.5674 - accuracy: 0.8564\n",
            "Epoch 24/100\n",
            "180/180 [==============================] - 7s 38ms/step - loss: 0.5169 - accuracy: 0.8723\n",
            "Epoch 25/100\n",
            "180/180 [==============================] - 7s 39ms/step - loss: 0.4710 - accuracy: 0.8867\n",
            "Epoch 26/100\n",
            "180/180 [==============================] - 7s 38ms/step - loss: 0.4608 - accuracy: 0.8897\n",
            "Epoch 27/100\n",
            "180/180 [==============================] - 7s 37ms/step - loss: 0.4271 - accuracy: 0.8993\n",
            "Epoch 28/100\n",
            "180/180 [==============================] - 7s 37ms/step - loss: 0.4008 - accuracy: 0.9081\n",
            "Epoch 29/100\n",
            "180/180 [==============================] - 7s 37ms/step - loss: 0.3897 - accuracy: 0.9121\n",
            "Epoch 30/100\n",
            "180/180 [==============================] - 7s 37ms/step - loss: 0.3889 - accuracy: 0.9087\n",
            "Epoch 31/100\n",
            "180/180 [==============================] - 7s 38ms/step - loss: 0.3956 - accuracy: 0.9083\n",
            "Epoch 32/100\n",
            "180/180 [==============================] - 7s 38ms/step - loss: 0.4345 - accuracy: 0.8926\n",
            "Epoch 33/100\n",
            "180/180 [==============================] - 7s 38ms/step - loss: 0.4159 - accuracy: 0.9000\n",
            "Epoch 34/100\n",
            "180/180 [==============================] - 7s 38ms/step - loss: 0.4248 - accuracy: 0.8944\n",
            "Epoch 35/100\n",
            "180/180 [==============================] - 7s 37ms/step - loss: 0.3933 - accuracy: 0.9038\n",
            "Epoch 36/100\n",
            "180/180 [==============================] - 7s 37ms/step - loss: 0.3561 - accuracy: 0.9189\n",
            "Epoch 37/100\n",
            "180/180 [==============================] - 7s 38ms/step - loss: 0.3219 - accuracy: 0.9281\n",
            "Epoch 38/100\n",
            "180/180 [==============================] - 7s 38ms/step - loss: 0.3166 - accuracy: 0.9303\n",
            "Epoch 39/100\n",
            "180/180 [==============================] - 7s 38ms/step - loss: 0.3127 - accuracy: 0.9310\n",
            "Epoch 40/100\n",
            "180/180 [==============================] - 7s 38ms/step - loss: 0.3115 - accuracy: 0.9304\n",
            "Epoch 41/100\n",
            "180/180 [==============================] - 7s 37ms/step - loss: 0.3042 - accuracy: 0.9303\n",
            "Epoch 42/100\n",
            "180/180 [==============================] - 7s 38ms/step - loss: 0.3034 - accuracy: 0.9282\n",
            "Epoch 43/100\n",
            "180/180 [==============================] - 7s 37ms/step - loss: 0.3177 - accuracy: 0.9265\n",
            "Epoch 44/100\n",
            "180/180 [==============================] - 7s 38ms/step - loss: 0.3379 - accuracy: 0.9196\n",
            "Epoch 45/100\n",
            "180/180 [==============================] - 7s 38ms/step - loss: 0.3071 - accuracy: 0.9291\n",
            "Epoch 46/100\n",
            "180/180 [==============================] - 7s 37ms/step - loss: 0.3191 - accuracy: 0.9217\n",
            "Epoch 47/100\n",
            "180/180 [==============================] - 7s 37ms/step - loss: 0.3050 - accuracy: 0.9290\n",
            "Epoch 48/100\n",
            "180/180 [==============================] - 7s 38ms/step - loss: 0.2723 - accuracy: 0.9376\n",
            "Epoch 49/100\n",
            "180/180 [==============================] - 7s 38ms/step - loss: 0.2168 - accuracy: 0.9570\n",
            "Epoch 50/100\n",
            "180/180 [==============================] - 7s 38ms/step - loss: 0.1914 - accuracy: 0.9636\n",
            "Epoch 51/100\n",
            "180/180 [==============================] - 7s 38ms/step - loss: 0.1712 - accuracy: 0.9713\n",
            "Epoch 52/100\n",
            "180/180 [==============================] - 7s 38ms/step - loss: 0.1733 - accuracy: 0.9695\n",
            "Epoch 53/100\n",
            "180/180 [==============================] - 7s 38ms/step - loss: 0.1858 - accuracy: 0.9657\n",
            "Epoch 54/100\n",
            "180/180 [==============================] - 7s 38ms/step - loss: 0.2250 - accuracy: 0.9505\n",
            "Epoch 55/100\n",
            "180/180 [==============================] - 7s 38ms/step - loss: 0.3003 - accuracy: 0.9247\n",
            "Epoch 56/100\n",
            "180/180 [==============================] - 7s 38ms/step - loss: 0.3716 - accuracy: 0.8994\n",
            "Epoch 57/100\n",
            "180/180 [==============================] - 7s 38ms/step - loss: 0.3651 - accuracy: 0.9020\n",
            "Epoch 58/100\n",
            "180/180 [==============================] - 7s 39ms/step - loss: 0.2729 - accuracy: 0.9342\n",
            "Epoch 59/100\n",
            "180/180 [==============================] - 7s 38ms/step - loss: 0.1993 - accuracy: 0.9584\n",
            "Epoch 60/100\n",
            "180/180 [==============================] - 7s 39ms/step - loss: 0.1449 - accuracy: 0.9756\n",
            "Epoch 61/100\n",
            "180/180 [==============================] - 7s 38ms/step - loss: 0.1115 - accuracy: 0.9855\n",
            "Epoch 62/100\n",
            "180/180 [==============================] - 7s 39ms/step - loss: 0.0963 - accuracy: 0.9878\n",
            "Epoch 63/100\n",
            "180/180 [==============================] - 7s 39ms/step - loss: 0.0888 - accuracy: 0.9897\n",
            "Epoch 64/100\n",
            "180/180 [==============================] - 7s 39ms/step - loss: 0.0862 - accuracy: 0.9904\n",
            "Epoch 65/100\n",
            "180/180 [==============================] - 7s 38ms/step - loss: 0.0888 - accuracy: 0.9895\n",
            "Epoch 66/100\n",
            "180/180 [==============================] - 7s 39ms/step - loss: 0.0916 - accuracy: 0.9893\n",
            "Epoch 67/100\n",
            "180/180 [==============================] - 7s 39ms/step - loss: 0.1216 - accuracy: 0.9792\n",
            "Epoch 68/100\n",
            "180/180 [==============================] - 7s 39ms/step - loss: 0.4193 - accuracy: 0.8832\n",
            "Epoch 69/100\n",
            "180/180 [==============================] - 7s 39ms/step - loss: 0.6407 - accuracy: 0.8163\n",
            "Epoch 70/100\n",
            "180/180 [==============================] - 7s 41ms/step - loss: 0.4136 - accuracy: 0.8835\n",
            "Epoch 71/100\n",
            "180/180 [==============================] - 7s 39ms/step - loss: 0.2068 - accuracy: 0.9508\n",
            "Epoch 72/100\n",
            "180/180 [==============================] - 7s 40ms/step - loss: 0.1181 - accuracy: 0.9815\n",
            "Epoch 73/100\n",
            "180/180 [==============================] - 7s 39ms/step - loss: 0.0765 - accuracy: 0.9920\n",
            "Epoch 74/100\n",
            "180/180 [==============================] - 7s 40ms/step - loss: 0.0591 - accuracy: 0.9957\n",
            "Epoch 75/100\n",
            "180/180 [==============================] - 7s 41ms/step - loss: 0.0500 - accuracy: 0.9969\n",
            "Epoch 76/100\n",
            "180/180 [==============================] - 7s 41ms/step - loss: 0.0454 - accuracy: 0.9979\n",
            "Epoch 77/100\n",
            "180/180 [==============================] - 7s 41ms/step - loss: 0.0427 - accuracy: 0.9980\n",
            "Epoch 78/100\n",
            "180/180 [==============================] - 7s 41ms/step - loss: 0.0405 - accuracy: 0.9984\n",
            "Epoch 79/100\n",
            "180/180 [==============================] - 7s 41ms/step - loss: 0.0401 - accuracy: 0.9984\n",
            "Epoch 80/100\n",
            "180/180 [==============================] - 7s 41ms/step - loss: 0.0402 - accuracy: 0.9978\n",
            "Epoch 81/100\n",
            "180/180 [==============================] - 7s 41ms/step - loss: 0.0376 - accuracy: 0.9988\n",
            "Epoch 82/100\n",
            "180/180 [==============================] - 7s 41ms/step - loss: 0.0355 - accuracy: 0.9986\n",
            "Epoch 83/100\n",
            "180/180 [==============================] - 7s 41ms/step - loss: 0.0413 - accuracy: 0.9977\n",
            "Epoch 84/100\n",
            "180/180 [==============================] - 7s 41ms/step - loss: 0.4869 - accuracy: 0.8745\n",
            "Epoch 85/100\n",
            "180/180 [==============================] - 7s 41ms/step - loss: 1.0141 - accuracy: 0.7338\n",
            "Epoch 86/100\n",
            "180/180 [==============================] - 7s 41ms/step - loss: 0.4293 - accuracy: 0.8755\n",
            "Epoch 87/100\n",
            "180/180 [==============================] - 7s 41ms/step - loss: 0.1653 - accuracy: 0.9628\n",
            "Epoch 88/100\n",
            "180/180 [==============================] - 7s 41ms/step - loss: 0.0812 - accuracy: 0.9893\n",
            "Epoch 89/100\n",
            "180/180 [==============================] - 8s 42ms/step - loss: 0.0493 - accuracy: 0.9978\n",
            "Epoch 90/100\n",
            "180/180 [==============================] - 7s 41ms/step - loss: 0.0383 - accuracy: 0.9990\n",
            "Epoch 91/100\n",
            "180/180 [==============================] - 7s 41ms/step - loss: 0.0325 - accuracy: 0.9993\n",
            "Epoch 92/100\n",
            "180/180 [==============================] - 7s 41ms/step - loss: 0.0290 - accuracy: 0.9998\n",
            "Epoch 93/100\n",
            "180/180 [==============================] - 7s 41ms/step - loss: 0.0268 - accuracy: 0.9998\n",
            "Epoch 94/100\n",
            "180/180 [==============================] - 7s 41ms/step - loss: 0.0249 - accuracy: 0.9998\n",
            "Epoch 95/100\n",
            "180/180 [==============================] - 7s 41ms/step - loss: 0.0234 - accuracy: 0.9998\n",
            "Epoch 96/100\n",
            "180/180 [==============================] - 7s 42ms/step - loss: 0.0219 - accuracy: 0.9998\n",
            "Epoch 97/100\n",
            "180/180 [==============================] - 8s 43ms/step - loss: 0.0207 - accuracy: 0.9999\n",
            "Epoch 98/100\n",
            "180/180 [==============================] - 7s 41ms/step - loss: 0.0194 - accuracy: 0.9999\n",
            "Epoch 99/100\n",
            "180/180 [==============================] - 7s 41ms/step - loss: 0.0184 - accuracy: 0.9999\n",
            "Epoch 100/100\n",
            "180/180 [==============================] - 7s 41ms/step - loss: 0.0173 - accuracy: 1.0000\n"
          ],
          "name": "stdout"
        },
        {
          "output_type": "execute_result",
          "data": {
            "text/plain": [
              "<tensorflow.python.keras.callbacks.History at 0x7f5157055630>"
            ]
          },
          "metadata": {
            "tags": []
          },
          "execution_count": 41
        }
      ]
    },
    {
      "cell_type": "code",
      "metadata": {
        "id": "n4Ul-0niPtIN",
        "colab_type": "code",
        "colab": {}
      },
      "source": [
        "def generate_text(model,tokenizer,text_seq_length,seed_text,n_words):\n",
        "  text=[]\n",
        "  for i in range(n_words):\n",
        "   \n",
        "    encoded=tokenizer.texts_to_sequences([seed_text])[0]\n",
        "    encoded=pad_sequences([encoded],maxlen=text_seq_length,truncating='pre')\n",
        "    #y_predict=model.predict_classes(encoded)\n",
        "    y_predict=np.argmax(model.predict(encoded), axis=-1)\n",
        "    predicted_word=''\n",
        "    for word,index in tokenizer.word_index.items():\n",
        "      if y_predict==index:\n",
        "        predicted_word=word\n",
        "        break\n",
        "\n",
        "    seed_text=seed_text+' '+predicted_word\n",
        "\n",
        "    text.append(predicted_word)\n",
        "    \n",
        "\n",
        "  return ' '.join(text)\n"
      ],
      "execution_count": 78,
      "outputs": []
    },
    {
      "cell_type": "code",
      "metadata": {
        "id": "g6YlA71xDJbq",
        "colab_type": "code",
        "colab": {
          "base_uri": "https://localhost:8080/",
          "height": 53
        },
        "outputId": "6b97ef32-83f0-4a79-f80a-30de36e81e7f"
      },
      "source": [
        "seed=lines[2]\n",
        "seed"
      ],
      "execution_count": 80,
      "outputs": [
        {
          "output_type": "execute_result",
          "data": {
            "application/vnd.google.colaboratory.intrinsic+json": {
              "type": "string"
            },
            "text/plain": [
              "'creatures we desire increase that thereby beauty s rose might never die but as the riper should by time decease his tender heir might bear his memory but thou contracted to'"
            ]
          },
          "metadata": {
            "tags": []
          },
          "execution_count": 80
        }
      ]
    },
    {
      "cell_type": "code",
      "metadata": {
        "id": "pAHRS7JO8GtJ",
        "colab_type": "code",
        "colab": {
          "base_uri": "https://localhost:8080/",
          "height": 36
        },
        "outputId": "92c56b23-9f75-41a6-c2a5-a8849167594d"
      },
      "source": [
        "generate_text(model,tokenizer,seq_length,seed,20)"
      ],
      "execution_count": 81,
      "outputs": [
        {
          "output_type": "execute_result",
          "data": {
            "application/vnd.google.colaboratory.intrinsic+json": {
              "type": "string"
            },
            "text/plain": [
              "'thine own bright eyes feed st thy light s flame with self substantial fuel making a famine where abundance lies'"
            ]
          },
          "metadata": {
            "tags": []
          },
          "execution_count": 81
        }
      ]
    },
    {
      "cell_type": "code",
      "metadata": {
        "id": "t2F3dSAmEKVf",
        "colab_type": "code",
        "colab": {}
      },
      "source": [
        ""
      ],
      "execution_count": null,
      "outputs": []
    }
  ]
}